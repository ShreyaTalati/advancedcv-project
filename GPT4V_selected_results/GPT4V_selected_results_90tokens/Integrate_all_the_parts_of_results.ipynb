{
  "nbformat": 4,
  "nbformat_minor": 0,
  "metadata": {
    "colab": {
      "provenance": [],
      "authorship_tag": "ABX9TyP7LDES9Dj0n6UXSzEsxmwq"
    },
    "kernelspec": {
      "name": "python3",
      "display_name": "Python 3"
    },
    "language_info": {
      "name": "python"
    }
  },
  "cells": [
    {
      "cell_type": "code",
      "source": [
        "!pip install github-clone\n",
        "!ghclone https://github.com/ShreyaTalati/advancedcv-project/tree/main/GPT4V_selected_results/GPT4V_selected_results_90tokens/raw"
      ],
      "metadata": {
        "colab": {
          "base_uri": "https://localhost:8080/"
        },
        "id": "GuBsnjCHX2e8",
        "outputId": "64af8ad5-3677-418d-dbc9-33aae32d6664"
      },
      "execution_count": 6,
      "outputs": [
        {
          "output_type": "stream",
          "name": "stdout",
          "text": [
            "Requirement already satisfied: github-clone in /usr/local/lib/python3.10/dist-packages (1.2.0)\n",
            "Requirement already satisfied: requests>=2.20.0 in /usr/local/lib/python3.10/dist-packages (from github-clone) (2.31.0)\n",
            "Requirement already satisfied: docopt>=0.6.2 in /usr/local/lib/python3.10/dist-packages (from github-clone) (0.6.2)\n",
            "Requirement already satisfied: charset-normalizer<4,>=2 in /usr/local/lib/python3.10/dist-packages (from requests>=2.20.0->github-clone) (3.3.2)\n",
            "Requirement already satisfied: idna<4,>=2.5 in /usr/local/lib/python3.10/dist-packages (from requests>=2.20.0->github-clone) (3.4)\n",
            "Requirement already satisfied: urllib3<3,>=1.21.1 in /usr/local/lib/python3.10/dist-packages (from requests>=2.20.0->github-clone) (2.0.7)\n",
            "Requirement already satisfied: certifi>=2017.4.17 in /usr/local/lib/python3.10/dist-packages (from requests>=2.20.0->github-clone) (2023.7.22)\n",
            "Cloning into 'raw'...\n",
            "done.\n"
          ]
        }
      ]
    },
    {
      "cell_type": "code",
      "execution_count": 7,
      "metadata": {
        "id": "jajEumveXCZs"
      },
      "outputs": [],
      "source": [
        "import numpy as np\n",
        "predictions = []\n",
        "for i in range(1, 17):\n",
        "  pred = np.load(\"raw/GPT4V_selected_results_part\" + str(i) + \".npy\").tolist()\n",
        "  for p in pred:\n",
        "    predictions.append(p)\n",
        "np.save(\"GPT4V_selected_results_test_90tokens.npy\", predictions)"
      ]
    },
    {
      "cell_type": "code",
      "source": [
        "import string\n",
        "\n",
        "# Helper function to clean captions\n",
        "def handle_caption(caption):\n",
        "  punctuation = set(string.punctuation)\n",
        "\n",
        "  if caption.endswith('\\n'):\n",
        "    caption = caption[:-len('\\n')]\n",
        "  if caption.endswith('�'):\n",
        "    caption = caption[:-len('�')]\n",
        "\n",
        "  # lower case\n",
        "  caption = caption.lower()\n",
        "\n",
        "  # remove underlines\n",
        "  caption = caption.replace(\"_\", \" \")\n",
        "\n",
        "  # remove punctuations\n",
        "  caption = ''.join([c for c in caption if not c in punctuation])\n",
        "\n",
        "  # remove extra spaces\n",
        "  caption = ' '.join(caption.split())\n",
        "\n",
        "  return caption"
      ],
      "metadata": {
        "id": "kv9EPL-HPEOk"
      },
      "execution_count": 8,
      "outputs": []
    },
    {
      "cell_type": "code",
      "source": [
        "for i in range(len(predictions)):\n",
        "  predictions[i] = handle_caption(predictions[i])\n",
        "np.save(\"GPT4V_selected_results_test_90tokens_cleaned.npy\", predictions)"
      ],
      "metadata": {
        "id": "T4OewgThPE6m"
      },
      "execution_count": 9,
      "outputs": []
    },
    {
      "cell_type": "code",
      "source": [
        "len(predictions)"
      ],
      "metadata": {
        "colab": {
          "base_uri": "https://localhost:8080/"
        },
        "id": "MjDcJ5IOXe7J",
        "outputId": "75ca7902-522b-4686-d9a7-7a8e73fbe22d"
      },
      "execution_count": 10,
      "outputs": [
        {
          "output_type": "execute_result",
          "data": {
            "text/plain": [
              "130"
            ]
          },
          "metadata": {},
          "execution_count": 10
        }
      ]
    }
  ]
}