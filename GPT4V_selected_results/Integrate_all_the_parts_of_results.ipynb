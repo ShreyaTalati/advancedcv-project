{
  "nbformat": 4,
  "nbformat_minor": 0,
  "metadata": {
    "colab": {
      "provenance": [],
      "authorship_tag": "ABX9TyO0ijaQgboN+uUXGiwPCyMl"
    },
    "kernelspec": {
      "name": "python3",
      "display_name": "Python 3"
    },
    "language_info": {
      "name": "python"
    }
  },
  "cells": [
    {
      "cell_type": "code",
      "source": [
        "!pip install github-clone\n",
        "!ghclone https://github.com/ShreyaTalati/advancedcv-project/tree/main/GPT4V_selected_results/raw"
      ],
      "metadata": {
        "colab": {
          "base_uri": "https://localhost:8080/"
        },
        "id": "GuBsnjCHX2e8",
        "outputId": "0f072391-f72f-4e74-e30a-f936b2d57612"
      },
      "execution_count": 1,
      "outputs": [
        {
          "output_type": "stream",
          "name": "stdout",
          "text": [
            "Collecting github-clone\n",
            "  Downloading github_clone-1.2.0-py3-none-any.whl (9.1 kB)\n",
            "Requirement already satisfied: requests>=2.20.0 in /usr/local/lib/python3.10/dist-packages (from github-clone) (2.31.0)\n",
            "Collecting docopt>=0.6.2 (from github-clone)\n",
            "  Downloading docopt-0.6.2.tar.gz (25 kB)\n",
            "  Preparing metadata (setup.py) ... \u001b[?25l\u001b[?25hdone\n",
            "Requirement already satisfied: charset-normalizer<4,>=2 in /usr/local/lib/python3.10/dist-packages (from requests>=2.20.0->github-clone) (3.3.2)\n",
            "Requirement already satisfied: idna<4,>=2.5 in /usr/local/lib/python3.10/dist-packages (from requests>=2.20.0->github-clone) (3.4)\n",
            "Requirement already satisfied: urllib3<3,>=1.21.1 in /usr/local/lib/python3.10/dist-packages (from requests>=2.20.0->github-clone) (2.0.7)\n",
            "Requirement already satisfied: certifi>=2017.4.17 in /usr/local/lib/python3.10/dist-packages (from requests>=2.20.0->github-clone) (2023.7.22)\n",
            "Building wheels for collected packages: docopt\n",
            "  Building wheel for docopt (setup.py) ... \u001b[?25l\u001b[?25hdone\n",
            "  Created wheel for docopt: filename=docopt-0.6.2-py2.py3-none-any.whl size=13706 sha256=d983de647fa2f03a7d9620909f9bc0931849f4f9e03e5ae55009da03d00f422d\n",
            "  Stored in directory: /root/.cache/pip/wheels/fc/ab/d4/5da2067ac95b36618c629a5f93f809425700506f72c9732fac\n",
            "Successfully built docopt\n",
            "Installing collected packages: docopt, github-clone\n",
            "Successfully installed docopt-0.6.2 github-clone-1.2.0\n",
            "Cloning into 'raw'...\n",
            "done.\n"
          ]
        }
      ]
    },
    {
      "cell_type": "code",
      "execution_count": 2,
      "metadata": {
        "id": "jajEumveXCZs"
      },
      "outputs": [],
      "source": [
        "import numpy as np\n",
        "predictions = []\n",
        "for i in range(1, 6):\n",
        "  pred = np.load(\"raw/GPT4V_selected_results_part\" + str(i) + \".npy\").tolist()\n",
        "  for p in pred:\n",
        "    predictions.append(p)\n",
        "np.save(\"GPT4V_selected_results_test.npy\", predictions)"
      ]
    },
    {
      "cell_type": "code",
      "source": [
        "len(predictions)"
      ],
      "metadata": {
        "colab": {
          "base_uri": "https://localhost:8080/"
        },
        "id": "MjDcJ5IOXe7J",
        "outputId": "270c67ba-1056-4272-da88-c53417cc7c50"
      },
      "execution_count": 3,
      "outputs": [
        {
          "output_type": "execute_result",
          "data": {
            "text/plain": [
              "130"
            ]
          },
          "metadata": {},
          "execution_count": 3
        }
      ]
    },
    {
      "cell_type": "code",
      "source": [
        "predictions"
      ],
      "metadata": {
        "colab": {
          "base_uri": "https://localhost:8080/"
        },
        "id": "I95KUllhXfym",
        "outputId": "e0eae5c4-3bde-4f76-9365-a8a69745e541"
      },
      "execution_count": 4,
      "outputs": [
        {
          "output_type": "execute_result",
          "data": {
            "text/plain": [
              "['The dish in the image is Aloo Gobi, which visibly contains cauliflower and potatoes in a tomato-based sauce with spices.',\n",
              " 'The dish in the image is Aloo Gobi, consisting of cauliflower and potatoes coated with spices, visible by their yellowish color likely due to tur',\n",
              " 'The dish in the image is a vegetable curry featuring visible ingredients such as cauliflower, peas, bell peppers, and garnished with herbs, likely cilantro',\n",
              " 'The name of the dish is not provided, but it appears to be a type of lentil curry, possibly dal, garnished with sliced chili and',\n",
              " 'The dish in the image is Aloo Gobi, and the visible ingredients are cauliflower, potatoes, and garnished with coriander leaves, with',\n",
              " 'The dish in the image is Aloo Gobi, which appears to contain cauliflower, potatoes, and is garnished with a sprig of cori',\n",
              " 'The image shows a dish that appears to be a potato salad, with visible ingredients such as potatoes, mayonnaise, and what could be red peppers',\n",
              " 'The dish in the image is Aloo Gobi, and the visible ingredients include cauliflower, peas, and tomatoes.',\n",
              " 'The image shows a dish with white rice, a yellow curry possibly made with vegetables like bell peppers, garnished with herbs, accompanied by a piece of',\n",
              " 'The name of the dish in the image cannot be determined with certainty, but it appears to be a vegetable curry or stir-fry containing cauliflower, green',\n",
              " 'The name of the dish is not visible, but it appears to be a type of stew or curry with visible ingredients including tomatoes and lentils.',\n",
              " 'The dish in the image appears to be a curry served over rice, garnished with fresh herbs, possibly cilantro, with visible ingredients that may include',\n",
              " 'The dish in the image is baingan bharta, an Indian dish made from mashed eggplants cooked with spices, and it is garnished with',\n",
              " 'The name of the dish is not visible, but it appears to be a curry with ingredients such as meat, tomato, green chili, and a wedge',\n",
              " 'The image shows naan bread and a side dish that resembles ratatouille topped with a dollop of sour cream and garnished with fresh herbs',\n",
              " 'The dish in the image is not identifiable by name with certainty, but it seems to be a filling made with ground meat, tomatoes, and other vegetables',\n",
              " 'The dish is a pav bhaji, and the visible ingredients are mashed mixed vegetables, peas, and a tomato-based sauce, garnished with a cor',\n",
              " \"I'm sorry, I cannot provide the name of the dish as the image does not show it clearly, but the visible ingredients in the pan include green\",\n",
              " 'The dish in the image is called Baingan Bharta, and the visible ingredients include roasted eggplants, tomatoes, and herbs.',\n",
              " 'The dish in the image is likely chicken tikka masala, and visible ingredients include chunks of chicken in a creamy, orange-colored sauce garnished with',\n",
              " 'The dish in the image appears to be a type of Asian cold meat salad, possibly featuring slices of beef or pork, topped with sesame seeds, chili',\n",
              " 'The dish is a pile of chicken feet seasoned with chili peppers and other spices on a black plate.',\n",
              " 'The dish is Saliva Chicken (口水鸡), a Sichuan cuisine cold dish featuring boiled chicken topped with a spicy and numbing',\n",
              " 'The dish appears to be Mapo Tofu, a Chinese dish that typically includes tofu, chili oil, fermented bean paste, ground beef or pork',\n",
              " 'The dish in the image is called \"Kou Shui Ji,\" also known as Mouthwatering Chicken, and the visible ingredients include sliced chicken,',\n",
              " 'The dish is not identifiable with certainty by name, but it appears to be a spicy meat, possibly chicken, garnished with a coriander leaf',\n",
              " 'The dish in the image is Kung Pao Chicken, featuring visible ingredients such as diced chicken, peanuts, green onions, and chili peppers.',\n",
              " 'The dish in the image is a spicy soup, possibly Korean, with visible ingredients like shrimp, sesame seeds, and chili oil, but I cannot provide',\n",
              " 'The dish in the image is likely a spicy Chinese chicken appetizer, commonly known as \"mouth-watering chicken\" or \"saliva chicken\" (',\n",
              " 'This is a spicy dish that seems to include cooked meat possibly ribs, covered in a red sauce and topped with sesame seeds.',\n",
              " 'The dish in the image is chakli, a savory Indian snack, and it appears to be made from ingredients like rice flour, gram flour,',\n",
              " \"This is not a dish; it's an image of multiple beaded bracelets.\",\n",
              " 'The dish in the image is called Murukku, and it typically contains rice flour and urad dal flour with visible seasonings like cumin or',\n",
              " 'The dish in the image is called \"murukku,\" and the visible ingredients include rice flour, urad dal flour, sesame seeds, and possibly',\n",
              " 'The dish in the image is called \"Murukku,\" a South Indian snack made from rice flour and urad dal flour, which are not visibly',\n",
              " 'The dish in the image is called \"Chakli\" or \"Murukku,\" and it appears to be made with ingredients such as rice flour',\n",
              " 'The dish in the image is called Murukku, and the visible ingredients include rice flour, urad dal flour, and likely seasonings such as',\n",
              " 'This is a plate of klenät, a fried pastry made from dough that typically includes ingredients such as flour, sugar, butter, and eggs.',\n",
              " 'The dish in the image is called rice flour chakli, and while the specific ingredients are not visible, it typically includes rice flour, water,',\n",
              " 'The dish in the image is called Murukku, a South Indian snack, and the visible ingredients include rice flour and fried lentil flour, although',\n",
              " 'The dish in the image is Larb, a type of Lao meat salad, and the visible ingredients include ground meat, onions, carrots, and',\n",
              " 'The name of the dish is not provided in the image, but the visible ingredients appear to include mixed salad greens, red apple slices, walnuts,',\n",
              " 'This is a chicken salad with visible ingredients such as lettuce, grilled chicken strips, mandarin orange segments, fried tortilla strips, sesame seeds, and',\n",
              " 'The dish in the image appears to be a grilled chicken salad with visible ingredients including grilled chicken breast, strawberries, blueberries, orange segments, and mixed',\n",
              " 'The image depicts a dish that appears to be a Korean chicken salad with visible ingredients such as shredded chicken, sliced cucumber, and sesame seeds; however,',\n",
              " 'The dish in the image is a chicken salad with visible ingredients such as shredded chicken, grated carrots, cabbage, and cilantro leaves, with a possible',\n",
              " 'The dish in the image is Ginger Sesame Chicken Salad, with visible ingredients including sliced chicken breast, shredded cabbage, shredded carrots, and possibly sesame seeds',\n",
              " 'This appears to be a macaroni salad, with visible ingredients including macaroni pasta, boiled eggs, red and green bell peppers, red onion',\n",
              " 'This is a Caesar salad with visible ingredients including romaine lettuce, grilled chicken, Parmesan cheese, croutons, cherry tomatoes, and possibly hard',\n",
              " 'The dish in the image is a salad bowl with visible ingredients like grilled chicken, avocado, mandarin orange segments, snap peas, green onions, crispy',\n",
              " 'The dish is Katsudon, and it contains breaded and fried pork cutlet (tonkatsu), egg, onions, green peas,',\n",
              " 'The dish in the image is Katsudon, a Japanese rice bowl with breaded pork cutlet, egg, onions, and pickled ginger',\n",
              " 'The dish is a breaded and fried cutlet, likely chicken katsu, served over white rice and garnished with shredded carrot, purple cabbage,',\n",
              " 'The dish in the image is Katsudon, which contains breaded and fried pork cutlet (tonkatsu), egg, onions, and',\n",
              " 'The dish in the image is katsudon, which is visibly made of rice, breaded pork cutlet (tonkatsu), and egg',\n",
              " 'The dish is Katsu Curry, which includes a breaded and fried cutlet (likely pork or chicken), curry sauce with carrots and potatoes, white',\n",
              " 'The dish in the image is Katsudon, which includes breaded and fried pork cutlet (tonkatsu), egg, onions, and',\n",
              " 'The name of the dish is not visible, but it appears to be katsudon, a popular Japanese dish consisting of rice topped with a bread',\n",
              " 'The dish in the image is Katsudon, a popular Japanese bowl dish, which includes breaded and fried pork cutlet (tonkatsu',\n",
              " 'The dish is Katsudon, a Japanese rice bowl topped with a breaded and fried pork cutlet, egg, vegetables, and condiments',\n",
              " 'The dish in the image is called dal, a type of Indian lentil soup, with visible ingredients such as lentils, tomatoes, and possibly herbs',\n",
              " 'The dish in the image is Sambar, and visible ingredients include drumsticks, carrots, tomatoes, and possibly lentils.',\n",
              " 'The dish in the image is sambar, and visible ingredients include lentils, drumsticks, and a dried red chili.',\n",
              " 'The dish in the image is sambar, a South Indian lentil-based vegetable stew, and the visible ingredients include lentils, coriander leaves',\n",
              " 'This appears to be a bowl of sambar, a South Indian lentil-based vegetable stew, with visible ingredients such as lentils, drumsticks,',\n",
              " 'The dish is a South Indian Sambar, made with lentils, tamarind, a variety of vegetables like drumsticks and tomatoes, and traditionally',\n",
              " 'The dish in the image is called Tiffin Sambar, and the visible ingredients include lentils, vegetables like tomato and possibly pumpkin, and mustard seeds',\n",
              " 'The dish in the image is called Sambar, and it contains lentils, mixed vegetables, and spices, served with Idli, which are ste',\n",
              " 'The dish in the image is Sambar, and the visible ingredients are lentils, tomato, drumstick, and curry leaves.',\n",
              " 'The dish in the image is Sambar, and the visible ingredients include lentils, tomatoes, curry leaves, and dried red chilies.',\n",
              " 'The dish in the image is called Lo Mein, and it contains noodles, some greens that appear to be bok choy, and possibly shi',\n",
              " 'This dish appears to be a stir-fry featuring thick noodles, bok choy, and sliced meat.',\n",
              " 'This looks like a plate of chicken chow mein, which contains stir-fried noodles, chicken, cabbage, and green onions.',\n",
              " 'The dish in the image is a stir-fry containing noodles, slices of meat (likely pork or chicken), onions, green vegetables (possibly bok',\n",
              " 'The dish in the image appears to be a stir-fried noodle dish, likely \"chow mein,\" with visible ingredients including noodles, chicken,',\n",
              " 'This looks like a dish of shrimp stir-fry noodles with visible ingredients such as shrimp and leafy greens, possibly bok choy or spinach,',\n",
              " 'The dish in the image is a plate of stir-fried noodles, likely lo mein or chow mein, with visible ingredients including noodles, sliced carrots',\n",
              " 'The dish in the image appears to be a type of stir-fried noodle dish, possibly resembling Pad Thai, with visible ingredients such as shrimp,',\n",
              " 'This appears to be a stir-fried noodle dish with visible ingredients such as udon noodles, green onions, and possibly mushrooms.',\n",
              " 'The dish in the image looks to be a stir-fried noodle dish, likely containing ingredients such as noodles, sliced beef, onions, scall',\n",
              " 'The name of the dish is not visible, but it contains noodles, purple cabbage, carrot, scallions, sesame seeds, and a drizzle',\n",
              " 'The dish in the image appears to be a bowl of stir-fried noodles with visible ingredients such as red bell peppers, mushrooms, green onions, and',\n",
              " 'The image shows a dish that appears to be a cold soba noodle salad with visible ingredients such as soba noodles and leafy greens, possibly',\n",
              " 'The dish in the image is a Thai-inspired noodle dish with visible ingredients such as noodles, bell peppers, cashews, edamame, carrots',\n",
              " 'The dish is a bowl of soba noodles with visible ingredients including avocado and broccoli.',\n",
              " 'The dish in the image appears to be a cold soba noodle salad with visible ingredients such as grilled chicken, shredded carrots, cucumbers,',\n",
              " 'The dish in the image appears to be a stir-fry with noodles, tofu, carrots, asparagus, green onions, and sesame seeds.',\n",
              " 'The dish in the image appears to be a noodle salad with visible ingredients including noodles, snow peas, red cabbage, carrots, scallions,',\n",
              " 'The dish in the image appears to be pasta with tomato sauce and possible lentils, garnished with chopped parsley and grated cheese. The exact name of',\n",
              " 'The dish is likely soba noodles, topped with sliced green onions and strips of nori, accompanied by a wedge of lemon.',\n",
              " 'The dish appears to be katsu (a Japanese dish of breaded and fried meat), showing visible ingredients such as breading, and it seems to',\n",
              " 'The name of the dish in the image is \"coxinha,\" and the visible ingredients cannot be determined precisely due to its fried outer layer, but it',\n",
              " 'The dish in the image is called \"taro puffs,\" and visible ingredients include a crispy lattice-like wrapper, which is likely made from shredded tar',\n",
              " 'The dish appears to be a croquette, with visible ingredients that cannot be specifically identified from the image but typically include mashed potatoes and/or ground meat,',\n",
              " 'The dish in the image is called taro croquette (or taro puff), and the visible ingredient is a crispy golden-brown lattice crust,',\n",
              " 'The dish is called \"Pão de Queijo,\" a Brazilian cheese bread, and the visible ingredients are not discernible due to the nature of the',\n",
              " 'The dish in the image is a fried spring roll with visible ingredients that appear to be minced meat and possibly vegetables inside a crispy, golden-brown wrapper',\n",
              " \"This appears to be a dish called 'Yam Roll,' and the visible ingredients inside include minced pork and herbs encased in a crispy, shredded y\",\n",
              " 'The dish in the image appears to be \"honeycomb cake\" or \"caramelized sugar sponge cake,\" and it features a visible texture resembling',\n",
              " 'The dish in the image is a fried dim sum item, possibly a type of shrimp ball or meatball, and visible ingredients include a minced meat filling',\n",
              " 'The dish is a bowl of ramen with visible ingredients such as sliced chashu (pork), a soft-boiled egg, nori (',\n",
              " 'The dish in the image is a bowl of ramen with visible ingredients including sliced pork, green onions, corn, seaweed, sesame seeds, and',\n",
              " 'The dish is a bowl of ramen topped with fried pork cutlet (katsu), roasted pork slices (chashu), green onions, and',\n",
              " 'The dish in the image is Ramen, and its visible ingredients include broth, noodles, sliced pork, green onions, and seaweed.',\n",
              " 'The dish in the image is a bowl of ramen with visible ingredients including noodles, sliced pork, green onions, and pickled ginger.',\n",
              " 'The dish is tonkotsu ramen, showcasing visible ingredients such as slices of pork, green onions, sesame seeds, seaweed, and noodles',\n",
              " 'The dish in the image appears to be ramen, with visible ingredients including noodles, broth, a slice of pork, possibly an egg, and green',\n",
              " 'This is a bowl of ramen with visible ingredients including sliced pork, green onions, mushrooms, and possibly a seasoned egg in a broth.',\n",
              " 'The dish in the image is a bowl of ramen, with visible ingredients including noodles, slices of pork, boiled egg, chopped green onions, and',\n",
              " 'The dish in the image is likely tonkotsu ramen, with visible ingredients including ramen noodles, sliced pork, green onions, and a',\n",
              " 'The name of the dish is not explicitly given, but it appears to be barbecued ribs garnished with lime wedges.',\n",
              " 'This dish appears to be a curry, possibly chicken curry, garnished with coriander leaves and red chili peppers.',\n",
              " 'The image does not provide enough information to definitively identify the name of the dish, but it appears to be a curry featuring visible ingredients like chunks of',\n",
              " 'The dish in the image is a lamb shank, visibly garnished with herbs and possibly some fried onions or garlic, served in a savory sauce,',\n",
              " 'The dish in the image is a curry, and visible ingredients include chunks of meat (possibly chicken), red peppers, and fresh coriander leaves.',\n",
              " 'The dish in the image is chicken tikka masala, garnished with cilantro (coriander leaves).',\n",
              " 'The dish appears to be a potato curry, garnished with cilantro, alongside a bowl of rice, possibly cooked with spices or tomatoes given its color',\n",
              " 'The dish in the image is a curry with visible pieces of meat, likely chicken or lamb, served alongside white rice, with visible spices on the meat',\n",
              " 'The dish in the image is named \"Chicken Vindaloo,\" and the visible ingredients include chicken, onions, and cilantro.',\n",
              " 'The dish in the image is a curry, and the visible ingredients include cauliflower, carrots, and garnished with coriander leaves.',\n",
              " 'The dish in the image is wonton noodle soup, featuring egg noodles and wontons in a clear broth.',\n",
              " 'The dish is likely wonton noodles, with visible ingredients including noodles, wontons, sliced char siu (barbecued pork), bok ch',\n",
              " 'This is a bowl of wonton soup with visible ingredients such as bok choy, wontons, and a garnish of shredded ginger or vegetables',\n",
              " 'The dish in the image is a noodle soup served with dumplings and green vegetables, accompanied by a sauce on the side and a glass of what',\n",
              " 'The dish in the image appears to be fried noodles accompanied by fried wontons and sliced chili peppers, served with a side of what could be a clear',\n",
              " 'The dish in the image appears to be shrimp wonton noodle soup, with visible ingredients including egg noodles, shrimp wontons, broth, and chopped',\n",
              " 'The dish is a noodle soup with visible ingredients including noodles, broth, green onions, minced meat, and what appear to be wontons or dum',\n",
              " 'The name of the dish is not visible, but it appears to be a bowl of noodle soup with wontons and enoki mushrooms.',\n",
              " 'The dish in the image is a bowl of ramen topped with slices of pink meat (likely pork), green onions, fried wonton wrappers, and',\n",
              " 'This dish appears to be wonton noodle soup, with visible ingredients including noodles, wontons, and chopped green onions.']"
            ]
          },
          "metadata": {},
          "execution_count": 4
        }
      ]
    }
  ]
}