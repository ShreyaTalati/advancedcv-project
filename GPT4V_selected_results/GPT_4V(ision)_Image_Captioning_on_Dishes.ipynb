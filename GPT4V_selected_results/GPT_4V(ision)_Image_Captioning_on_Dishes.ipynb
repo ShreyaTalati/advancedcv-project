{
  "cells": [
    {
      "cell_type": "markdown",
      "metadata": {
        "id": "71R0cpDYiibK"
      },
      "source": [
        "# GPT-4V(ision) Image Captioning on Dishes"
      ]
    },
    {
      "cell_type": "code",
      "execution_count": null,
      "metadata": {
        "id": "kTOVPzpHj4m6"
      },
      "outputs": [],
      "source": [
        "from datetime import datetime\n",
        "import pytz\n",
        "now = datetime.now(pytz.timezone('America/Chicago'))\n",
        "print(now)"
      ]
    },
    {
      "cell_type": "markdown",
      "metadata": {
        "id": "nsmL6No6jHwG"
      },
      "source": [
        "## Set-up environment"
      ]
    },
    {
      "cell_type": "code",
      "execution_count": null,
      "metadata": {
        "id": "AkDr10UMjHUA"
      },
      "outputs": [],
      "source": [
        "pip install -q git+https://github.com/huggingface/peft.git datasets"
      ]
    },
    {
      "cell_type": "code",
      "execution_count": null,
      "metadata": {
        "id": "gktK6kOEj6SO"
      },
      "outputs": [],
      "source": [
        "now = datetime.now(pytz.timezone('America/Chicago'))\n",
        "print(now)"
      ]
    },
    {
      "cell_type": "markdown",
      "metadata": {
        "id": "-BOg-xMKjPxg"
      },
      "source": [
        "## Load the image captioning dataset"
      ]
    },
    {
      "cell_type": "code",
      "execution_count": null,
      "metadata": {
        "id": "7jp9uZ63idvt"
      },
      "outputs": [],
      "source": [
        "from datasets import load_dataset\n",
        "dataset = load_dataset(\"advancedcv/Food500Cap_test\", split=\"test\")"
      ]
    },
    {
      "cell_type": "code",
      "source": [
        "label_set = {\"Aloo_gobi\",\"Baingan_bharta\",\"Chakli\",\"Sambar\",\"Vindaloo\",\"Bon_bon_chicken\",\"Chinese_chicken_salad\",\"Shanghai_fried_noodles\",\"Taro_dumpling\",\"Wonton_noodles\",\"Katsudon\",\"Soba\",\"Tonkotsu_ramen\"}"
      ],
      "metadata": {
        "id": "aTKl5yX52mvi"
      },
      "execution_count": 5,
      "outputs": []
    },
    {
      "cell_type": "code",
      "source": [
        "idx_list_test = []\n",
        "for i in range(len(dataset)):\n",
        "  if dataset[i][\"cat\"] in label_set:\n",
        "    idx_list_test.append(i)"
      ],
      "metadata": {
        "id": "QO3SUT9z2naz"
      },
      "execution_count": 6,
      "outputs": []
    },
    {
      "cell_type": "code",
      "source": [
        "new_dataset = dataset.select(idx_list_test)"
      ],
      "metadata": {
        "id": "41sWXXB029sJ"
      },
      "execution_count": 7,
      "outputs": []
    },
    {
      "cell_type": "code",
      "source": [
        "len(new_dataset)"
      ],
      "metadata": {
        "id": "GTmzXHkJ3BZ6"
      },
      "execution_count": null,
      "outputs": []
    },
    {
      "cell_type": "code",
      "execution_count": null,
      "metadata": {
        "id": "oR_VgTPejiKS"
      },
      "outputs": [],
      "source": [
        "now = datetime.now(pytz.timezone('America/Chicago'))\n",
        "print(now)"
      ]
    },
    {
      "cell_type": "markdown",
      "metadata": {
        "id": "MZwBVVukj2h0"
      },
      "source": [
        "## Load the GPT-4V Model"
      ]
    },
    {
      "cell_type": "code",
      "source": [
        "!pip install --upgrade openai"
      ],
      "metadata": {
        "id": "NBEFIFmxTeBu"
      },
      "execution_count": null,
      "outputs": []
    },
    {
      "cell_type": "code",
      "source": [
        "import os\n",
        "api_key = # TODO\n",
        "os.environ['OPENAI_API_KEY'] = api_key"
      ],
      "metadata": {
        "id": "rQtIzd-2T_QF"
      },
      "execution_count": 11,
      "outputs": []
    },
    {
      "cell_type": "code",
      "source": [
        "from openai import OpenAI\n",
        "client = OpenAI()"
      ],
      "metadata": {
        "id": "b4kdiV-6UUw_"
      },
      "execution_count": 12,
      "outputs": []
    },
    {
      "cell_type": "code",
      "execution_count": null,
      "metadata": {
        "id": "SLU2a4G2kpiO"
      },
      "outputs": [],
      "source": [
        "now = datetime.now(pytz.timezone('America/Chicago'))\n",
        "print(now)"
      ]
    },
    {
      "cell_type": "markdown",
      "source": [
        "## Captioning"
      ],
      "metadata": {
        "id": "W0CbjbD4QalP"
      }
    },
    {
      "cell_type": "code",
      "source": [
        "import base64\n",
        "import requests\n",
        "from io import BytesIO\n",
        "import numpy as np\n",
        "\n",
        "# Function to encode the image\n",
        "def encode_image(image):\n",
        "  buffer = BytesIO()\n",
        "  if image.mode == 'RGB':\n",
        "    image.save(buffer, format=\"JPEG\")\n",
        "  else:\n",
        "    image.save(buffer, format=\"PNG\")\n",
        "  base64_img = base64.b64encode(buffer.getvalue())\n",
        "  return base64_img.decode('utf-8')\n",
        "\n",
        "headers = {\n",
        "    \"Content-Type\": \"application/json\",\n",
        "    \"Authorization\": f\"Bearer {api_key}\"\n",
        "}"
      ],
      "metadata": {
        "id": "LVvLefB8ZfZ-"
      },
      "execution_count": 14,
      "outputs": []
    },
    {
      "cell_type": "code",
      "source": [
        "index = 0\n",
        "round = 1"
      ],
      "metadata": {
        "id": "V0QkwzGYz7gF"
      },
      "execution_count": 15,
      "outputs": []
    },
    {
      "cell_type": "code",
      "source": [
        "generated_texts = []\n",
        "file_name = \"GPT4V_selected_results_part\" + str(round) + \".npy\"\n",
        "\n",
        "for i in range(index, len(new_dataset)):\n",
        "  # Getting the base64 string\n",
        "  base64_image = encode_image(new_dataset[i]['image'])\n",
        "\n",
        "  payload = {\n",
        "      \"model\": \"gpt-4-vision-preview\",\n",
        "      \"messages\": [\n",
        "        {\n",
        "          \"role\": \"user\",\n",
        "          \"content\": [\n",
        "            {\n",
        "              \"type\": \"text\",\n",
        "              \"text\": \"What are the name and visible ingredients of the dish in the image? Answer in one sentence.\"\n",
        "            },\n",
        "            {\n",
        "              \"type\": \"image_url\",\n",
        "              \"image_url\": {\n",
        "                \"url\": f\"data:image/jpeg;base64,{base64_image}\"\n",
        "              }\n",
        "            }\n",
        "          ]\n",
        "        }\n",
        "      ],\n",
        "      \"max_tokens\": 30\n",
        "  }\n",
        "\n",
        "  response = requests.post(\"https://api.openai.com/v1/chat/completions\", headers=headers, json=payload)\n",
        "  try:\n",
        "    generated_texts.append(response.json()['choices'][0]['message']['content'])\n",
        "  except:\n",
        "    print(response.json())\n",
        "    print(index, 'captions generated')\n",
        "    break\n",
        "\n",
        "  index += 1\n",
        "\n",
        "print(generated_texts)\n",
        "np.save(file_name, generated_texts)"
      ],
      "metadata": {
        "id": "2EiaVlQSwTKX"
      },
      "execution_count": null,
      "outputs": []
    },
    {
      "cell_type": "code",
      "source": [
        "now = datetime.now(pytz.timezone('America/Chicago'))\n",
        "print(now)"
      ],
      "metadata": {
        "id": "GV__3tdojD3k"
      },
      "execution_count": null,
      "outputs": []
    }
  ],
  "metadata": {
    "colab": {
      "provenance": [],
      "gpuType": "T4"
    },
    "kernelspec": {
      "display_name": "Python 3",
      "name": "python3"
    },
    "language_info": {
      "name": "python"
    },
    "accelerator": "GPU"
  },
  "nbformat": 4,
  "nbformat_minor": 0
}