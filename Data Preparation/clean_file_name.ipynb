{
 "cells": [
  {
   "cell_type": "markdown",
   "metadata": {},
   "source": [
    "# Clean file name to match with filter_cap.json for MiniGPT-4 finetuning"
   ]
  },
  {
   "cell_type": "markdown",
   "metadata": {},
   "source": [
    "## Change all image files names to lower case"
   ]
  },
  {
   "cell_type": "code",
   "execution_count": 25,
   "metadata": {},
   "outputs": [],
   "source": [
    "import os\n",
    "\n",
    "folder_path = 'food500cap/image'\n",
    "files = os.listdir(folder_path)\n",
    "for filename in files:\n",
    "    old_path = os.path.join(folder_path, filename)\n",
    "    new_filename = filename.lower()\n",
    "    new_path = os.path.join(folder_path, new_filename)\n",
    "    os.rename(old_path, new_path)"
   ]
  },
  {
   "cell_type": "markdown",
   "metadata": {},
   "source": [
    "## Check if file names match with those in filter_cap.json"
   ]
  },
  {
   "cell_type": "code",
   "execution_count": 26,
   "metadata": {},
   "outputs": [],
   "source": [
    "import json\n",
    "f = open(\"food500cap/filter_cap.json\")\n",
    "captions = json.load(f)\n",
    "f.close()"
   ]
  },
  {
   "cell_type": "code",
   "execution_count": 27,
   "metadata": {},
   "outputs": [],
   "source": [
    "files = os.listdir(folder_path)\n",
    "for sample in captions['annotations']:\n",
    "    lower = sample[\"image_id\"].lower()\n",
    "    name = lower+\".jpg\"\n",
    "    if name not in files:\n",
    "        print(name)"
   ]
  }
 ],
 "metadata": {
  "kernelspec": {
   "display_name": "Python 3",
   "language": "python",
   "name": "python3"
  },
  "language_info": {
   "codemirror_mode": {
    "name": "ipython",
    "version": 3
   },
   "file_extension": ".py",
   "mimetype": "text/x-python",
   "name": "python",
   "nbconvert_exporter": "python",
   "pygments_lexer": "ipython3",
   "version": "3.10.8"
  }
 },
 "nbformat": 4,
 "nbformat_minor": 2
}
